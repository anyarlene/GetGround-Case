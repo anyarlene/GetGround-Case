{
 "cells": [
  {
   "cell_type": "code",
   "execution_count": 2,
   "metadata": {},
   "outputs": [],
   "source": [
    "import os\n",
    "from dotenv import load_dotenv\n",
    "load_dotenv()\n",
    "import pandas as pd\n",
    "import pandasql as ps\n"
   ]
  },
  {
   "cell_type": "code",
   "execution_count": 3,
   "metadata": {},
   "outputs": [
    {
     "name": "stdout",
     "output_type": "stream",
     "text": [
      "<class 'pandas.core.frame.DataFrame'>\n",
      "RangeIndex: 1470 entries, 0 to 1469\n",
      "Data columns (total 13 columns):\n",
      " #   Column              Non-Null Count  Dtype \n",
      "---  ------              --------------  ----- \n",
      " 0   referral_id         1470 non-null   int64 \n",
      " 1   creation_date       1470 non-null   object\n",
      " 2   creation_time       1470 non-null   object\n",
      " 3   status_date         1470 non-null   object\n",
      " 4   status_time         1470 non-null   object\n",
      " 5   company_id          1470 non-null   int64 \n",
      " 6   partner_id          1470 non-null   int64 \n",
      " 7   consultant_id       1470 non-null   int64 \n",
      " 8   status              1470 non-null   object\n",
      " 9   is_outbound         1470 non-null   int64 \n",
      " 10  partner_type        1470 non-null   object\n",
      " 11  lead_sales_contact  1470 non-null   object\n",
      " 12  country             1113 non-null   object\n",
      "dtypes: int64(5), object(8)\n",
      "memory usage: 149.4+ KB\n"
     ]
    }
   ],
   "source": [
    "path = os.getenv('path')\n",
    "df = pd.read_csv(path + 'data_used.csv')\n",
    "df.info()"
   ]
  },
  {
   "cell_type": "code",
   "execution_count": 4,
   "metadata": {},
   "outputs": [
    {
     "data": {
      "text/html": [
       "<div>\n",
       "<style scoped>\n",
       "    .dataframe tbody tr th:only-of-type {\n",
       "        vertical-align: middle;\n",
       "    }\n",
       "\n",
       "    .dataframe tbody tr th {\n",
       "        vertical-align: top;\n",
       "    }\n",
       "\n",
       "    .dataframe thead th {\n",
       "        text-align: right;\n",
       "    }\n",
       "</style>\n",
       "<table border=\"1\" class=\"dataframe\">\n",
       "  <thead>\n",
       "    <tr style=\"text-align: right;\">\n",
       "      <th></th>\n",
       "      <th>referral_id</th>\n",
       "      <th>creation_date</th>\n",
       "      <th>creation_time</th>\n",
       "      <th>status_date</th>\n",
       "      <th>status_time</th>\n",
       "      <th>company_id</th>\n",
       "      <th>partner_id</th>\n",
       "      <th>consultant_id</th>\n",
       "      <th>status</th>\n",
       "      <th>is_outbound</th>\n",
       "      <th>partner_type</th>\n",
       "      <th>lead_sales_contact</th>\n",
       "      <th>country</th>\n",
       "    </tr>\n",
       "  </thead>\n",
       "  <tbody>\n",
       "    <tr>\n",
       "      <th>0</th>\n",
       "      <td>1352</td>\n",
       "      <td>2021-04-20</td>\n",
       "      <td>08:51:23 PM</td>\n",
       "      <td>2021-04-20</td>\n",
       "      <td>08:51:23 PM</td>\n",
       "      <td>1177</td>\n",
       "      <td>376</td>\n",
       "      <td>518</td>\n",
       "      <td>successful</td>\n",
       "      <td>0</td>\n",
       "      <td>IFA</td>\n",
       "      <td>Leaf</td>\n",
       "      <td>UK</td>\n",
       "    </tr>\n",
       "    <tr>\n",
       "      <th>1</th>\n",
       "      <td>452</td>\n",
       "      <td>2021-01-07</td>\n",
       "      <td>05:53:25 PM</td>\n",
       "      <td>2021-01-07</td>\n",
       "      <td>05:53:25 PM</td>\n",
       "      <td>816</td>\n",
       "      <td>147</td>\n",
       "      <td>207</td>\n",
       "      <td>successful</td>\n",
       "      <td>0</td>\n",
       "      <td>IFA</td>\n",
       "      <td>Leaf</td>\n",
       "      <td>UK</td>\n",
       "    </tr>\n",
       "    <tr>\n",
       "      <th>2</th>\n",
       "      <td>26</td>\n",
       "      <td>2020-09-15</td>\n",
       "      <td>05:04:10 AM</td>\n",
       "      <td>2020-09-15</td>\n",
       "      <td>05:04:10 AM</td>\n",
       "      <td>0</td>\n",
       "      <td>10</td>\n",
       "      <td>17</td>\n",
       "      <td>successful</td>\n",
       "      <td>0</td>\n",
       "      <td>IFA</td>\n",
       "      <td>Apple</td>\n",
       "      <td>Singapore</td>\n",
       "    </tr>\n",
       "    <tr>\n",
       "      <th>3</th>\n",
       "      <td>169</td>\n",
       "      <td>2020-10-21</td>\n",
       "      <td>02:20:15 AM</td>\n",
       "      <td>2020-10-21</td>\n",
       "      <td>02:20:15 AM</td>\n",
       "      <td>608</td>\n",
       "      <td>10</td>\n",
       "      <td>17</td>\n",
       "      <td>successful</td>\n",
       "      <td>0</td>\n",
       "      <td>IFA</td>\n",
       "      <td>Apple</td>\n",
       "      <td>Singapore</td>\n",
       "    </tr>\n",
       "    <tr>\n",
       "      <th>4</th>\n",
       "      <td>1455</td>\n",
       "      <td>2021-05-02</td>\n",
       "      <td>11:14:59 PM</td>\n",
       "      <td>2021-05-02</td>\n",
       "      <td>11:14:59 PM</td>\n",
       "      <td>0</td>\n",
       "      <td>14</td>\n",
       "      <td>26</td>\n",
       "      <td>pending</td>\n",
       "      <td>0</td>\n",
       "      <td>IFA</td>\n",
       "      <td>Apple</td>\n",
       "      <td>Singapore</td>\n",
       "    </tr>\n",
       "  </tbody>\n",
       "</table>\n",
       "</div>"
      ],
      "text/plain": [
       "   referral_id creation_date creation_time status_date  status_time  \\\n",
       "0         1352    2021-04-20   08:51:23 PM  2021-04-20  08:51:23 PM   \n",
       "1          452    2021-01-07   05:53:25 PM  2021-01-07  05:53:25 PM   \n",
       "2           26    2020-09-15   05:04:10 AM  2020-09-15  05:04:10 AM   \n",
       "3          169    2020-10-21   02:20:15 AM  2020-10-21  02:20:15 AM   \n",
       "4         1455    2021-05-02   11:14:59 PM  2021-05-02  11:14:59 PM   \n",
       "\n",
       "   company_id  partner_id  consultant_id      status  is_outbound  \\\n",
       "0        1177         376            518  successful            0   \n",
       "1         816         147            207  successful            0   \n",
       "2           0          10             17  successful            0   \n",
       "3         608          10             17  successful            0   \n",
       "4           0          14             26     pending            0   \n",
       "\n",
       "  partner_type lead_sales_contact    country  \n",
       "0          IFA               Leaf         UK  \n",
       "1          IFA               Leaf         UK  \n",
       "2          IFA              Apple  Singapore  \n",
       "3          IFA              Apple  Singapore  \n",
       "4          IFA              Apple  Singapore  "
      ]
     },
     "execution_count": 4,
     "metadata": {},
     "output_type": "execute_result"
    }
   ],
   "source": [
    "df.head()"
   ]
  },
  {
   "cell_type": "code",
   "execution_count": 17,
   "metadata": {},
   "outputs": [
    {
     "name": "stdout",
     "output_type": "stream",
     "text": [
      "          status  count_referrals  year\n",
      "0        pending              517  2021\n",
      "1     successful              468  2021\n",
      "2  disinterested               41  2021\n"
     ]
    }
   ],
   "source": [
    "q1 = \"\"\" SELECT \n",
    "         DISTINCT status,\n",
    "         COUNT(DISTINCT referral_id) AS count_referrals,\n",
    "         strftime('%Y', status_date) AS year\n",
    "    FROM df\n",
    "    WHERE year = '2021'\n",
    "    GROUP BY\n",
    "    status\n",
    "\n",
    "ORDER BY COUNT(DISTINCT referral_id) DESC\n",
    "\"\"\"\n",
    "print(ps.sqldf(q1, locals()))"
   ]
  },
  {
   "cell_type": "code",
   "execution_count": 6,
   "metadata": {},
   "outputs": [
    {
     "name": "stdout",
     "output_type": "stream",
     "text": [
      "   count_referrals  year month\n",
      "0              109  2021    01\n",
      "1              213  2021    02\n",
      "2              406  2021    03\n",
      "3              280  2021    04\n",
      "4               18  2021    05\n",
      "5               81  2020    09\n",
      "6              178  2020    10\n",
      "7              119  2020    11\n",
      "8               66  2020    12\n"
     ]
    }
   ],
   "source": [
    "q2 = \"\"\" SELECT \n",
    "         --status_date,\n",
    "         COUNT(DISTINCT referral_id) AS count_referrals,\n",
    "         strftime('%Y', status_date) AS year,\n",
    "         strftime('%m', status_date) AS month\n",
    "    FROM df\n",
    "    GROUP BY month\n",
    "\n",
    "    ORDER BY year DESC, month ASC\n",
    "\"\"\"\n",
    "print(ps.sqldf(q2, locals()))"
   ]
  },
  {
   "cell_type": "code",
   "execution_count": 8,
   "metadata": {},
   "outputs": [
    {
     "name": "stdout",
     "output_type": "stream",
     "text": [
      "         partner_type  count_partners  year\n",
      "0               Agent              57  2021\n",
      "1                 IFA              10  2021\n",
      "2               Other               9  2021\n",
      "3          Influencer               5  2021\n",
      "4              Lender               3  2021\n",
      "5  Management company               2  2021\n",
      "6             Insurer               1  2021\n",
      "7           Developer               1  2021\n"
     ]
    }
   ],
   "source": [
    "q3 = \"\"\" SELECT \n",
    "         partner_type,   \n",
    "         COUNT(DISTINCT partner_id) AS count_partners,\n",
    "         strftime('%Y', status_date) AS year\n",
    "         --strftime('%m', status_date) AS month\n",
    "    FROM df\n",
    "    WHERE year = '2021'\n",
    "    GROUP BY partner_type\n",
    "\n",
    "    ORDER BY count_partners DESC\n",
    "\"\"\"\n",
    "print(ps.sqldf(q3, locals()))"
   ]
  },
  {
   "cell_type": "code",
   "execution_count": 19,
   "metadata": {},
   "outputs": [
    {
     "name": "stdout",
     "output_type": "stream",
     "text": [
      "   count_partners  count_referrals  count_companies  count_sales_people  year\n",
      "0              88             1026              473                   8  2021\n"
     ]
    }
   ],
   "source": [
    "q4 = \"\"\" SELECT \n",
    "         COUNT(DISTINCT partner_id) AS count_partners,   \n",
    "         COUNT(DISTINCT referral_id) AS count_referrals,\n",
    "         COUNT(DISTINCT company_id) AS count_companies,\n",
    "         COUNT(DISTINCT lead_sales_contact) AS count_sales_people,\n",
    "         \n",
    "         strftime('%Y', status_date) AS year\n",
    "         --strftime('%m', status_date) AS month\n",
    "    FROM df\n",
    "    WHERE year = '2021' \n",
    "    --GROUP BY year\n",
    "\"\"\"\n",
    "print(ps.sqldf(q4, locals()))"
   ]
  },
  {
   "cell_type": "code",
   "execution_count": 24,
   "metadata": {},
   "outputs": [
    {
     "name": "stdout",
     "output_type": "stream",
     "text": [
      "   partner_id  count_referrals  year\n",
      "0         191              130  2021\n",
      "1         149              115  2021\n",
      "2          63               86  2021\n",
      "3         201               85  2021\n",
      "4         290               78  2021\n",
      "5           7               76  2021\n",
      "6         302               60  2021\n",
      "7         213               35  2021\n",
      "8          22               33  2021\n",
      "9          21               27  2021\n"
     ]
    }
   ],
   "source": [
    "q5 = \"\"\" SELECT \n",
    "         DISTINCT partner_id,   \n",
    "         COUNT(DISTINCT referral_id) AS count_referrals,\n",
    "         strftime('%Y', status_date) AS year\n",
    "         \n",
    "    FROM df\n",
    "    WHERE year = '2021' \n",
    "\n",
    "    GROUP BY partner_id\n",
    "\n",
    "    ORDER BY count_referrals DESC\n",
    "\n",
    "    LIMIT 10\n",
    "\"\"\"\n",
    "print(ps.sqldf(q5, locals()))"
   ]
  },
  {
   "cell_type": "code",
   "execution_count": 31,
   "metadata": {},
   "outputs": [
    {
     "name": "stdout",
     "output_type": "stream",
     "text": [
      "   count_companies  year\n",
      "0              182  2021\n"
     ]
    }
   ],
   "source": [
    "q6 = \"\"\" SELECT \n",
    "         COUNT(DISTINCT company_id) AS count_companies,\n",
    "         strftime('%Y', status_date) AS year\n",
    "         \n",
    "    FROM df\n",
    "    WHERE year = '2021' and is_outbound = 1\n",
    "\"\"\"\n",
    "print(ps.sqldf(q6, locals()))"
   ]
  }
 ],
 "metadata": {
  "interpreter": {
   "hash": "aee8b7b246df8f9039afb4144a1f6fd8d2ca17a180786b69acc140d282b71a49"
  },
  "kernelspec": {
   "display_name": "Python 3.9.12 64-bit",
   "language": "python",
   "name": "python3"
  },
  "language_info": {
   "codemirror_mode": {
    "name": "ipython",
    "version": 3
   },
   "file_extension": ".py",
   "mimetype": "text/x-python",
   "name": "python",
   "nbconvert_exporter": "python",
   "pygments_lexer": "ipython3",
   "version": "3.9.12"
  },
  "orig_nbformat": 4
 },
 "nbformat": 4,
 "nbformat_minor": 2
}
